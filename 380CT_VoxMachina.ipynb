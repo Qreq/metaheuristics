{
 "cells": [
  {
   "cell_type": "markdown",
   "metadata": {},
   "source": [
    "# 380CT Assignment - Vox Machina"
   ]
  },
  {
   "cell_type": "markdown",
   "metadata": {},
   "source": [
    "## featuring Nathan Brown, Harry Wills & Daniyal Khan"
   ]
  },
  {
   "cell_type": "markdown",
   "metadata": {},
   "source": [
    "# Theory"
   ]
  },
  {
   "cell_type": "markdown",
   "metadata": {},
   "source": [
    "The Travelling Salesman Problem is a NP-Hard problem that, given that the graph is a complete with set V vertices, find the shortest Hamiltonian cycle in terms of distance. (Grefenstette, et al, 1985). \n",
    "\n",
    "This can be given by:\n",
    "$$d(\\pi)=\\sum_{i=1}^{|\\pi|-1} d(v_{i},v_{i+1})$$\n",
    "Where $\\pi = (v_{1},v_{2}, ...)$ (Panigrahi 2015)"
   ]
  },
  {
   "cell_type": "markdown",
   "metadata": {},
   "source": [
    "### Tabu Search - Definition"
   ]
  },
  {
   "cell_type": "markdown",
   "metadata": {},
   "source": [
    "The first meta-heuristic algorithm that will be implemented to the Travelling Salesman Problem is 'Tabu Search'.  This algorithm consists of using an iterative solution implementation a set of problem solutions and moving from one solution to another in the same neighbourhood of each related solution.  This means maintaining a short term memory of of specific changes of recent moves within the search space and preventing future moves from undoing those changes (Brownlee, n.d.).  "
   ]
  },
  {
   "cell_type": "markdown",
   "metadata": {},
   "source": [
    "### Tabu Search - Pseudocode"
   ]
  },
  {
   "cell_type": "markdown",
   "metadata": {},
   "source": [
    "***\n",
    "**Algorithm:** Tabu Search <br>\n",
    "**Input:** A complete weight graph $G=(V,E)$ where $V={1,...,n}$ for some $n\\geq1$ and a weight function $w(a,b)$ which gives the weight of edge $(a,b)$<br>\n",
    "**Output:** The shortest Hamiltonian cycle path, the time taken in terms of distance, and how accurate the estimate is to the minimal cycle length\n",
    "***\n",
    "1. $S_{best} \\leftarrow ConstructInitialSolution()$\n",
    "2. $TabuList \\leftarrow \\emptyset$\n",
    "3. $While(\\neg StopCondition())$\n",
    "4. $\\quad CandidateList \\leftarrow \\emptyset$\n",
    "5. $\\quad for(S_{candidate} \\in S_{bestneighbourhood}$\n",
    "6. $\\quad \\quad if(\\neg ContainsAnyEdges(S_{candidate}, TabuLate)$\n",
    "7. $\\quad \\quad \\quad CandidateList \\leftarrow S_{candidate}$ \n",
    "8. $\\quad \\quad end\\, if$\n",
    "9. $\\quad end\\, for$\n",
    "10. $\\quad S_{candidate} \\leftarrow LocateBestCandidate(CandidateList)$\n",
    "11. $\\quad if(Cost(S_{candidate)}\\leq Cost(S_{best}))$\n",
    "12. $\\quad \\quad S_{best} \\leftarrow S_{candidate}$\n",
    "13. $\\quad \\quad TabuList \\leftarrow FeatureDifferences(S_{candidate},S_{best})$\n",
    "14. $\\quad \\quad While(TabuList > TabuList_{size})$\n",
    "15. $\\quad \\quad \\quad DeleteFeature(TabuList)$\n",
    "16. $\\quad \\quad end\\, While$\n",
    "17. $\\quad end\\, if$\n",
    "18. $end\\, While$\n",
    "19. $Return\\, S_{best}$"
   ]
  },
  {
   "cell_type": "markdown",
   "metadata": {},
   "source": [
    "# References"
   ]
  },
  {
   "cell_type": "markdown",
   "metadata": {},
   "source": [
    "* Brownlee J., (n.d.) *Design and Analysis of Algorithms* [online] Available at: <www2.cs.duke.edu/courses/fall15/compsci532/scribe_notes/lec14.pdf> [Accessed on Mar 18. 2019]"
   ]
  }
 ],
 "metadata": {
  "kernelspec": {
   "display_name": "Python 3",
   "language": "python",
   "name": "python3"
  },
  "language_info": {
   "codemirror_mode": {
    "name": "ipython",
    "version": 3
   },
   "file_extension": ".py",
   "mimetype": "text/x-python",
   "name": "python",
   "nbconvert_exporter": "python",
   "pygments_lexer": "ipython3",
   "version": "3.7.6"
  }
 },
 "nbformat": 4,
 "nbformat_minor": 4
}
