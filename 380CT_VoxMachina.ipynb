{
 "cells": [
  {
   "cell_type": "markdown",
   "metadata": {},
   "source": [
    "# 380CT Assignment - Vox Machina"
   ]
  },
  {
   "cell_type": "markdown",
   "metadata": {},
   "source": [
    "## featuring Nathan Brown, Harry Wills,  Ammar Bharmal, & Daniyal Khan"
   ]
  },
  {
   "cell_type": "markdown",
   "metadata": {},
   "source": [
    "# Theory"
   ]
  },
  {
   "cell_type": "markdown",
   "metadata": {},
   "source": [
    "The Travelling Salesman Problem(TSP) is a NP-Hard problem that, given that the graph is a complete with set V vertices, find the shortest Hamiltonian cycle in terms of distance. (Grefenstette, et al, 1985). \n",
    "\n",
    "This can be given by:\n",
    "$$d(\\pi)=\\sum_{i=1}^{|\\pi|-1} d(v_{i},v_{i+1})$$\n",
    "Where $\\pi = (v_{1},v_{2}, ...)$ (Panigrahi 2015)"
   ]
  },
  {
   "cell_type": "markdown",
   "metadata": {},
   "source": [
    "## Ant Colony Optimizaton"
   ]
  },
  {
   "cell_type": "markdown",
   "metadata": {},
   "source": [
    "### Definition"
   ]
  },
  {
   "cell_type": "markdown",
   "metadata": {},
   "source": [
    "The first meta-heuristic algorithm that will be implemented to the TSP is 'Ant Colony Optimization'(ACO).  This algorithm is designed on the behaviour of ants searching by food, which is done by randomly searching until finding optimal paths, leaving pheramones behind for their colony (Makura, Wiktor, n.d.).  Due to this, the most optimal path isn't deduced, but more-so stumbled upon by chance, and is therfore probability-based deduced from ant $k$ visiting city $j$ from city $i$.  This can be mathematically shown as:\n",
    "$$\n",
    "p^{k}_{ij} =\n",
    "\\begin{cases}\n",
    "    \\frac{[\\tau_{ij}]^{\\alpha}\\cdot [\\eta_{ij}]^{\\beta}}\n",
    "    {\\sum_{s\\in allowed_k}[\\tau_{is}]^{\\alpha}\\cdot [\\eta_{is}]^\\beta}, & \\text j \\in allowed_k \\\\\n",
    "    0, & \\text{otherwise}\n",
    "\\end{cases} \\quad Eq(1)\n",
    "$$\n",
    "* Where $\\tau_{ij}$ is the intensity of the pheramona trail between cities $i$ and $j$.\n",
    "* $\\alpha$ is the regulator for the influence of $\\tau_{ij}$.\n",
    "* $\\eta_{ij}$ is the visibility of city j fromcity i, which is always the distance between the two cities.\n",
    "* $\\beta$ is the regulator for the influence of $\\eta_{ij}$.\n",
    "* $allowed_k$ is the set of cities that have not yet been visited."
   ]
  },
  {
   "cell_type": "markdown",
   "metadata": {},
   "source": [
    "The following equations are then required for the updating rule of $\\tau_{ij}$:"
   ]
  },
  {
   "cell_type": "markdown",
   "metadata": {},
   "source": [
    "$$\\tau_{ij}(t+1) = \\rho\\cdot\\tau_{ij}(t)+\\Delta\\tau_{ij}\\quad \\quad Eq(2)$$"
   ]
  },
  {
   "cell_type": "markdown",
   "metadata": {},
   "source": [
    "$$\\Delta\\tau_{ij} = \\sum_{k=1}^l \\Delta\\tau_{ij}^k \\quad \\quad Eq(3)$$"
   ]
  },
  {
   "cell_type": "markdown",
   "metadata": {},
   "source": [
    "$$\n",
    "\\Delta\\tau_{ij}^k =\n",
    "\\begin{cases}\n",
    "    Q/L_k, & \\text{if ant k travels on edge (i,j)}\\\\\n",
    "    0, & \\text{otherwise}\n",
    "\\end{cases} \\quad Eq(4)\n",
    "$$\n",
    "* Where $Q$ is a constant that represents the base strength of pheramone levels.\n",
    "* $L_k$ is the length of the travel (weight of edge)."
   ]
  },
  {
   "cell_type": "markdown",
   "metadata": {},
   "source": [
    "(Yang, et al. 2008)"
   ]
  },
  {
   "cell_type": "markdown",
   "metadata": {},
   "source": [
    "### Pseudocode"
   ]
  },
  {
   "cell_type": "markdown",
   "metadata": {},
   "source": [
    "***\n",
    "**Algorithm:** Ant Colony Optimization\n",
    "**Input:** A complete weighted graph $G = (V,E)$ where $V = 1,...,n$ for some $n\\geq1$ and a weight function $w(a,b($ which gives the weight of edge $(a,b)$<br>\n",
    "**Output:** The shortest Hamiltonian cycle path, the time taken in terms of distance, and how accurate the estimate is to the minimal cycle length\n",
    "***\n",
    "1. $For\\, t\\leftarrow1 \\,to\\, iteration\\, number \\,$\n",
    "2. $\\quad For\\, k \\leftarrow1 \\, to\\, l$\n",
    "3. $\\quad \\quad While(\\neg ant_kCompletedTour)$\n",
    "4. $\\quad \\quad \\quad Select \\, city \\, j \\, to\\, be\\, visited\\, next\\, with\\, probability\\, p_{ij}\\, given\\, by\\, Eq. (1)$\n",
    "5. $\\quad \\quad Calculate \\, L_k$\n",
    "6. $\\quad Update\\, the\\, trail\\, levels\\, according\\, to\\, Eqs.(2-4)$"
   ]
  },
  {
   "cell_type": "markdown",
   "metadata": {},
   "source": [
    "(Yang, et al. 2008)"
   ]
  },
  {
   "cell_type": "markdown",
   "metadata": {},
   "source": [
    "### Big O Analysis"
   ]
  },
  {
   "cell_type": "markdown",
   "metadata": {},
   "source": [
    "Due to the nature of the nested looping of this algorithm, and there being three nested loops,the time complexity can be represented as the following Big O:\n",
    "$$O(n*n*n)\\quad Simplified \\, to$$\n",
    "$$O(n^3) \\quad Cubic$$\n"
   ]
  },
  {
   "cell_type": "markdown",
   "metadata": {},
   "source": [
    "ACO requires $N$ memory for the variable $L_k$ and for the Graph data, for representing sets, and a fixed value for variables $t$, $k$, $l$, and selected cities.  The space complexity for this can be represented as the following Big O:\n",
    "$$O(n+n+n) \\quad Simplified \\, to$$\n",
    "$$O(n) \\quad linear$$"
   ]
  },
  {
   "cell_type": "markdown",
   "metadata": {},
   "source": [
    "## Tabu Search"
   ]
  },
  {
   "cell_type": "markdown",
   "metadata": {},
   "source": [
    "### Definition"
   ]
  },
  {
   "cell_type": "markdown",
   "metadata": {},
   "source": [
    "The second meta-heuristic algorithm that will be implemented to the TSP is 'Tabu Search'.  This algorithm consists of using an iterative solution implementation a set of problem solutions and moving from one solution to another in the same neighbourhood of each related solution.  This means maintaining a short term memory of of specific changes of recent moves within the search space and preventing future moves from undoing those changes (Panigrahi, 2015).  "
   ]
  },
  {
   "cell_type": "markdown",
   "metadata": {},
   "source": [
    "### Pseudocode"
   ]
  },
  {
   "cell_type": "markdown",
   "metadata": {},
   "source": [
    "***\n",
    "**Algorithm:** Tabu Search <br>\n",
    "**Input:** A complete weight graph $G=(V,E)$ where $V={1,...,n}$ for some $n\\geq1$ and a weight function $w(a,b)$ which gives the weight of edge $(a,b)$<br>\n",
    "**Output:** The shortest Hamiltonian cycle path, the time taken in terms of distance, and how accurate the estimate is to the minimal cycle length\n",
    "***\n",
    "1. $S_{best} \\leftarrow ConstructInitialSolution()$\n",
    "2. $TabuList \\leftarrow \\emptyset$\n",
    "3. $While(\\neg StopCondition())$\n",
    "4. $\\quad CandidateList \\leftarrow \\emptyset$\n",
    "5. $\\quad for(S_{candidate} \\in S_{bestneighbourhood}$\n",
    "6. $\\quad \\quad if(\\neg ContainsAnyEdges(S_{candidate}, TabuLate)$\n",
    "7. $\\quad \\quad \\quad CandidateList \\leftarrow S_{candidate}$ \n",
    "8. $\\quad \\quad end\\, if$\n",
    "9. $\\quad end\\, for$\n",
    "10. $\\quad S_{candidate} \\leftarrow LocateBestCandidate(CandidateList)$\n",
    "11. $\\quad if(Cost(S_{candidate)}\\leq Cost(S_{best}))$\n",
    "12. $\\quad \\quad S_{best} \\leftarrow S_{candidate}$\n",
    "13. $\\quad \\quad TabuList \\leftarrow FeatureDifferences(S_{candidate},S_{best})$\n",
    "14. $\\quad \\quad While(TabuList > TabuList_{size})$\n",
    "15. $\\quad \\quad \\quad DeleteFeature(TabuList)$\n",
    "16. $\\quad \\quad end\\, While$\n",
    "17. $\\quad end\\, if$\n",
    "18. $end\\, While$\n",
    "19. $Return\\, S_{best}$\n",
    "\n",
    "(Brownlee 2015)"
   ]
  },
  {
   "cell_type": "markdown",
   "metadata": {},
   "source": [
    "### Big O Analysis"
   ]
  },
  {
   "cell_type": "markdown",
   "metadata": {},
   "source": [
    "Due to the nested looping occuring within the outer loop starting at line 3 to line 18, combined with lines 5-9, and 14-16, the time complexity in Big O notation would be:\n",
    "$$O(n*n*n)  \\quad Simplified\\,to$$\n",
    "$$O(n^3)\\quad Cubic$$"
   ]
  },
  {
   "cell_type": "markdown",
   "metadata": {},
   "source": [
    "Tabu search requires $N$ memory for the $TabuList$, $S_{bestneighbourhood}$, $S_{best}$ and $CandidateList$ variables, as well as fixed memory for iterable variables, resulting in the following space complexity:\n",
    "$$O(n+n+n+n)\\quad Simplified \\,to$$\n",
    "$$O(n) \\quad Linear$$"
   ]
  },
  {
   "cell_type": "markdown",
   "metadata": {},
   "source": [
    "# Practice"
   ]
  },
  {
   "cell_type": "markdown",
   "metadata": {},
   "source": [
    "## Generate Complete, Weighted Graph Code (taken from: https://gist.github.com/RobertTalbert/9f0879e5ed4b4297fc5f) and adapted to python3 and up to date networkx library"
   ]
  },
  {
   "cell_type": "code",
   "execution_count": 39,
   "metadata": {},
   "outputs": [
    {
     "name": "stdout",
     "output_type": "stream",
     "text": [
      "g1 distance matrix\n",
      "     0    1    2    3    4    5    6    7    8    9\n",
      "0  inf   16   11    7   14    5   19    7   16    0\n",
      "1   16  inf    0    5    0   11    8    0   11   11\n",
      "2   11    0  inf   11   18    0    9    0   16    6\n",
      "3    7    5   11  inf   18    6    0    0   13    0\n",
      "4   14    0   18   18  inf   20   10    0    0    5\n",
      "5    5   11    0    6   20  inf   18   11   11    0\n",
      "6   19    8    9    0   10   18  inf   20    7    0\n",
      "7    7    0    0    0    0   11   20  inf    9    0\n",
      "8   16   11   16   13    0   11    7    9  inf    0\n",
      "9    0   11    6    0    5    0    0    0    0  inf\n"
     ]
    }
   ],
   "source": [
    "import networkx as graphs\n",
    "import random\n",
    "import pandas as pd\n",
    "import numpy as np\n",
    "class CompleteWGraph:\n",
    "    n = 0\n",
    "    p = 0\n",
    "    lower_weight = 0\n",
    "    upper_weight = 0\n",
    "    distmatrix = {}\n",
    "    w_edges = []\n",
    "    def __init__(self,n,p,lower_weight,upper_weight):\n",
    "        \"\"\"n: number of nodes\n",
    "        p: prob of 2 nodes being connected (between 0-1)\n",
    "        lower/upper weight: range of possible weight values\"\"\"\n",
    "        self.n = n\n",
    "        self.p = p\n",
    "        self.lower_weight= lower_weight\n",
    "        self.upper_weight = upper_weight\n",
    "        \n",
    "    def random_weighted_graph(self): \n",
    "        g = graphs.gnp_random_graph(self.n,self.p)\n",
    "        m = g.number_of_edges()\n",
    "        weights = [random.randint(self.lower_weight, self.upper_weight) for r in range(m)]\n",
    "        #unweighted connections\n",
    "        uw_edges = g.edges()\n",
    "    \n",
    "        # Create weighted graph edge list \n",
    "        i=0\n",
    "        w_edges = []\n",
    "        ret_graph = graphs.Graph()\n",
    "        for edge in uw_edges:\n",
    "            #w_edges = [uw_edges[i][0], uw_edges[i][1], weights[i]]\n",
    "            #w_edges+={(edge[0],edge[1]):weights[i]}\n",
    "            ret_graph.add_edge(edge[0],edge[1],weight=weights[i])\n",
    "            i =i +1\n",
    "        #print(w_edges)\n",
    "        #return graphs.Graph(w_edges, weighted = True,s=weights)\n",
    "        return ret_graph\n",
    "        \n",
    "    \n",
    "\n",
    "\n",
    "    def createDistanceMatrix(self,graph):\n",
    "        self.distmatrix = pd.DataFrame(columns=list(\n",
    "            graph.nodes), index=list(graph.nodes))\n",
    "        listcities = list(graph.nodes)\n",
    "        #print(listcities)\n",
    "        for i in range(self.n):\n",
    "            if i not in graph.nodes:\n",
    "                continue\n",
    "            for j in range(self.n):\n",
    "                if j not in graph.nodes:\n",
    "                    continue\n",
    "                if i == j:\n",
    "                    self.distmatrix.iloc[i, j] = np.inf\n",
    "                else:\n",
    "                    #weight = graph.get_edge_data(i,j)['weight']\n",
    "                    if (graph.get_edge_data(i,j) is not None):\n",
    "                        self.distmatrix.iloc[i, j] = graph.get_edge_data(i,j)['weight']\n",
    "                    else:\n",
    "                        self.distmatrix.iloc[i,j] = 0\n",
    "                        self.distmatrix.iloc[j, i] = self.distmatrix.iloc[i, j]\n",
    "g1_data = CompleteWGraph(10,0.6,5,20)\n",
    "g1 = g1_data.random_weighted_graph()\n",
    "\n",
    "#weightdict = g1.get_edge_data(0,2)\n",
    "#print(weightdict)\n",
    "#print(g1.get_edge_data(0,2)['weight'])\n",
    "\n",
    "g1_data.createDistanceMatrix(g1)\n",
    "print(\"g1 distance matrix\")\n",
    "print(g1_data.distmatrix)"
   ]
  },
  {
   "cell_type": "markdown",
   "metadata": {},
   "source": [
    "## Ant Colony Optimization"
   ]
  },
  {
   "cell_type": "markdown",
   "metadata": {},
   "source": [
    "### Code (taken from: https://github.com/matteo27695/tsp-aco/blob/master/tsp_aco.py)"
   ]
  },
  {
   "cell_type": "markdown",
   "metadata": {},
   "source": [
    "### Ant Colony Class"
   ]
  },
  {
   "cell_type": "code",
   "execution_count": 32,
   "metadata": {},
   "outputs": [],
   "source": [
    "import time\n",
    "class AntColony:\n",
    "    def __init__(self, n_ants, n_iterations, Q, decay=0.6, alpha=1, beta=1):\n",
    "        self.n_ants = n_ants\n",
    "        self.n_iterations = n_iterations\n",
    "        self.decay = decay\n",
    "        self.alpha = alpha\n",
    "        self.beta = beta\n",
    "        self.Q = Q\n",
    "        self.glbpath = {}\n",
    "\n",
    "    def createPherorMatrix(self, world):\n",
    "        self.pheromone = pd.DataFrame(columns=list(world.nodes), index=list(world.nodes))\n",
    "        for i in range(len(world.nodes)):\n",
    "            for j in range(len(world.nodes)):\n",
    "                self.pheromone.iloc[i, j] = 1/len(world.nodes)\n",
    "                self.pheromone.iloc[j, i] = self.pheromone.iloc[i, j]\n",
    "\n",
    "    def createColony(self):\n",
    "        self.colony = {}\n",
    "        for i in range(self.n_ants):\n",
    "            self.colony[i] = {\"path\": [], \"dist\": 0}\n",
    "\n",
    "    def initializeColony(self, world):\n",
    "        if self.n_ants == len(world.nodes):\n",
    "            for i, city in zip(range(self.n_ants), world.nodes):\n",
    "                self.colony[i][\"path\"] = [city]\n",
    "        else:\n",
    "            for i in range(self.n_ants):\n",
    "                self.colony[i][\"path\"] = [list(world.nodes)[\n",
    "                    np.random.randint(len(world.nodes))]]\n",
    "\n",
    "    def calculateProba(self, world,world_data):\n",
    "        proba = pd.DataFrame(columns=list(world.nodes), index=list(world.nodes))\n",
    "        for i in range(len(world.nodes)):\n",
    "            for j in range(len(world.nodes)):\n",
    "                #ant cannot move on  path that doesn't exist\n",
    "                if (world_data.distmatrix.iloc[i,j] == 0):\n",
    "                    proba.iloc[i, j] = 0\n",
    "                    continue\n",
    "                proba.iloc[i, j] = ((self.pheromone.iloc[i, j])**self.alpha) * \\\n",
    "                    ((world_data.distmatrix.iloc[i, j])**-self.beta)\n",
    "                proba.iloc[j, i] = proba.iloc[i, j]\n",
    "        return proba\n",
    "\n",
    "    def calculateProba_ant(self, world, world_data, unvisitedcity, currentcity, proba):\n",
    "        sigma = 0\n",
    "        for h in unvisitedcity:\n",
    "            if world_data.distmatrix.loc[currentcity,h] == 0:\n",
    "                continue\n",
    "            \n",
    "            sigma += ((self.pheromone.loc[currentcity, h])**self.alpha) * \\\n",
    "                ((world_data.distmatrix.loc[currentcity, h])**-self.beta)\n",
    "        \n",
    "        probaant = 0\n",
    "        for x in proba.loc[currentcity, :]:\n",
    "            if sigma == 0:\n",
    "                continue\n",
    "            probaant = proba.loc[currentcity, :]/sigma\n",
    "        return pd.to_numeric(probaant)\n",
    "\n",
    "    def findBestPath(self):\n",
    "        bpath = []\n",
    "        bestdist = np.inf\n",
    "        idxbest = 0\n",
    "        for i in range(self.n_ants):\n",
    "            if self.colony[i][\"dist\"] < bestdist:\n",
    "                bestdist = self.colony[i][\"dist\"]\n",
    "                bpath = self.colony[i][\"path\"]\n",
    "                idxbest = i\n",
    "        bpath = {\"path\": bpath, \"dist\": bestdist, \"ant\": idxbest}\n",
    "        return bpath\n",
    "\n",
    "    def updatePherorMatrix(self, world):\n",
    "        depositpher = 0\n",
    "        for ant in range(self.n_ants):\n",
    "            for j in range(len(self.colony[ant][\"path\"])-1):\n",
    "                src, dest = self.colony[ant][\"path\"][j], self.colony[ant][\"path\"][j+1]\n",
    "                self.pheromone.loc[src, dest] += self.Q/self.colony[ant][\"dist\"]\n",
    "            depositpher += self.Q/self.colony[ant][\"dist\"]\n",
    "        for i in range(len(world.nodes)):\n",
    "            for j in range(len(world.nodes)):\n",
    "                self.pheromone.iloc[i, j] = (1-self.decay)*self.pheromone.iloc[i, j]*depositpher\n",
    "                self.pheromone.iloc[j, i] = self.pheromone.iloc[i, j]\n",
    "\n",
    "    def calculateDist_ant(self, world,world_data, ant):\n",
    "        dist = 0\n",
    "        for i in range(len(self.colony[ant][\"path\"])-1):\n",
    "            dist += world_data.distmatrix.loc[self.colony[ant][\"path\"][i], self.colony[ant][\"path\"][i+1]]\n",
    "        return dist\n",
    "\n",
    "    def run(self, world, world_data):\n",
    "        path, dist = \"path\", \"dist\"\n",
    "        self.createColony()\n",
    "        self.createPherorMatrix(world)\n",
    "        start = time.time()\n",
    "        for i in range(self.n_iterations):\n",
    "            proba = self.calculateProba(world, world_data)\n",
    "            self.initializeColony(world)\n",
    "            for ant in range(self.n_ants):\n",
    "                # for each ant find a path\n",
    "                unvisitedcity = list(world.nodes)\n",
    "                currentcity = self.colony[ant][\"path\"][0]\n",
    "                unvisitedcity.remove(currentcity)\n",
    "                for j in range(1, len(world.nodes)):\n",
    "                    if len(unvisitedcity) > 1:\n",
    "                        probaant = self.calculateProba_ant(world, world_data, unvisitedcity, currentcity, proba)\n",
    "                        if (type(probaant) is int):\n",
    "                            continue\n",
    "                        currentcity = probaant.loc[unvisitedcity].idxmax()\n",
    "                        unvisitedcity.remove(currentcity)\n",
    "                        self.colony[ant][\"path\"].append(currentcity)\n",
    "                    else:\n",
    "                        self.colony[ant][\"path\"].append(unvisitedcity[0])\n",
    "                self.colony[ant][\"dist\"] = self.calculateDist_ant(world, world_data, ant)\n",
    "                # print(\"Ant\",self.colony[ant])\n",
    "\n",
    "            self.updatePherorMatrix(world)\n",
    "            bpath = self.findBestPath()\n",
    "            if i == 0:\n",
    "                self.gbpath = bpath\n",
    "            else:\n",
    "                if bpath[\"dist\"] < self.gbpath[\"dist\"]:\n",
    "                    self.gbpath = bpath\n",
    "            print(f\"Iteration {i+1}: best path: {bpath[path]}, distance: {bpath[dist]}\")\n",
    "        print(\"ACO completed\")\n",
    "        print(f\"Global best path is {self.gbpath[path]}, with distance: {self.gbpath[dist]}\")\n",
    "        print(f\"Total time of execution {time.time()-start} s\")"
   ]
  },
  {
   "cell_type": "markdown",
   "metadata": {},
   "source": [
    "### Populate World With Cities (vertices)"
   ]
  },
  {
   "cell_type": "code",
   "execution_count": 29,
   "metadata": {},
   "outputs": [
    {
     "ename": "NameError",
     "evalue": "name 'World' is not defined",
     "output_type": "error",
     "traceback": [
      "\u001b[1;31m---------------------------------------------------------------------------\u001b[0m",
      "\u001b[1;31mNameError\u001b[0m                                 Traceback (most recent call last)",
      "\u001b[1;32m<ipython-input-29-745c16defe99>\u001b[0m in \u001b[0;36m<module>\u001b[1;34m\u001b[0m\n\u001b[0;32m     11\u001b[0m     \u001b[1;34m\"Coverack\"\u001b[0m\u001b[1;33m:\u001b[0m \u001b[1;33m[\u001b[0m\u001b[1;36m50.0244\u001b[0m\u001b[1;33m,\u001b[0m \u001b[1;36m5.0976\u001b[0m\u001b[1;33m]\u001b[0m\u001b[1;33m\u001b[0m\u001b[1;33m\u001b[0m\u001b[0m\n\u001b[0;32m     12\u001b[0m }\n\u001b[1;32m---> 13\u001b[1;33m \u001b[0mworld\u001b[0m \u001b[1;33m=\u001b[0m \u001b[0mWorld\u001b[0m\u001b[1;33m(\u001b[0m\u001b[0mcities\u001b[0m\u001b[1;33m)\u001b[0m\u001b[1;33m\u001b[0m\u001b[1;33m\u001b[0m\u001b[0m\n\u001b[0m\u001b[0;32m     14\u001b[0m \u001b[0mworld\u001b[0m\u001b[1;33m.\u001b[0m\u001b[0mshowWorld\u001b[0m\u001b[1;33m(\u001b[0m\u001b[1;33m)\u001b[0m\u001b[1;33m\u001b[0m\u001b[1;33m\u001b[0m\u001b[0m\n",
      "\u001b[1;31mNameError\u001b[0m: name 'World' is not defined"
     ]
    }
   ],
   "source": [
    "cities = {\n",
    "    \"Cardiff\": [51.4816,3.1791],\n",
    "    \"Birmingham\": [52.4862, 1.8904],\n",
    "    \"Coventry\": [52.4068, 1.5197],\n",
    "    \"Oxford\": [51.7520, 1.2577],\n",
    "    \"Belfast\": [54.5973, 5.9301],\n",
    "    \"Edinburgh\": [55.9533, 3.1883],\n",
    "    \"Glasgow\": [55.8642, 4.2518],\n",
    "    \"Swansea\": [51.6241, 3.9436],\n",
    "    \"Plymouth\": [50.3755, 4.1427],\n",
    "    \"Coverack\": [50.0244, 5.0976]\n",
    "}\n",
    "world = World(cities)\n",
    "world.showWorld()"
   ]
  },
  {
   "cell_type": "markdown",
   "metadata": {},
   "source": [
    "### Setup Ant Colony Data"
   ]
  },
  {
   "cell_type": "markdown",
   "metadata": {},
   "source": [
    "**Parameter 1:** Number of Ants<br>\n",
    "**Paramater 2:** Number of Iterations<br>\n",
    "**Parameter 3:** Base Strength of Pheromones<br>"
   ]
  },
  {
   "cell_type": "code",
   "execution_count": 37,
   "metadata": {},
   "outputs": [],
   "source": [
    "ac1 = AntColony(25,20,100)\n",
    "ac2 = AntColony(100,10,100)\n",
    "ac3 = AntColony(1000,15,50)"
   ]
  },
  {
   "cell_type": "markdown",
   "metadata": {},
   "source": [
    "### Run Ant Colony Optimization"
   ]
  },
  {
   "cell_type": "code",
   "execution_count": 38,
   "metadata": {
    "scrolled": true
   },
   "outputs": [
    {
     "name": "stdout",
     "output_type": "stream",
     "text": [
      "Iteration 1: best path: [1, 0, 2, 6, 3, 5, 9, 8], distance: 66\n",
      "Iteration 2: best path: [2, 0, 1, 3, 5, 9, 8], distance: 60\n",
      "Iteration 3: best path: [2, 0, 1, 3, 5, 9, 8], distance: 60\n",
      "Iteration 4: best path: [2, 0, 1, 3, 5, 9, 8], distance: 60\n",
      "Iteration 5: best path: [2, 0, 1, 3, 5, 9, 8], distance: 60\n",
      "Iteration 6: best path: [2, 0, 1, 3, 5, 9, 8], distance: 60\n",
      "Iteration 7: best path: [1, 0, 2, 6, 3, 5, 9, 8], distance: 66\n",
      "Iteration 8: best path: [2, 0, 1, 3, 5, 9, 8], distance: 60\n",
      "Iteration 9: best path: [2, 0, 1, 3, 5, 9, 8], distance: 60\n",
      "Iteration 10: best path: [2, 0, 1, 3, 5, 9, 8], distance: 60\n",
      "Iteration 11: best path: [1, 0, 2, 6, 3, 5, 9, 8], distance: 66\n",
      "Iteration 12: best path: [2, 0, 1, 3, 5, 9, 8], distance: 60\n",
      "Iteration 13: best path: [2, 0, 1, 3, 5, 9, 8], distance: 60\n",
      "Iteration 14: best path: [2, 0, 1, 3, 5, 9, 8], distance: 60\n",
      "Iteration 15: best path: [2, 0, 1, 3, 5, 9, 8], distance: 60\n",
      "Iteration 16: best path: [2, 0, 1, 3, 5, 9, 8], distance: 60\n",
      "Iteration 17: best path: [2, 0, 1, 3, 5, 9, 8], distance: 60\n",
      "Iteration 18: best path: [2, 0, 1, 3, 5, 9, 8], distance: 60\n",
      "Iteration 19: best path: [2, 0, 1, 3, 5, 9, 8], distance: 60\n",
      "Iteration 20: best path: [2, 0, 1, 3, 5, 9, 8], distance: 60\n",
      "ACO completed\n",
      "Global best path is [2, 0, 1, 3, 5, 9, 8], with distance: 60\n",
      "Total time of execution 15.060711145401001 s\n"
     ]
    }
   ],
   "source": [
    "ac1.run(g1,g1_data)\n",
    "#ac2.run(world)\n",
    "#ac3.run(world)"
   ]
  },
  {
   "cell_type": "code",
   "execution_count": null,
   "metadata": {},
   "outputs": [],
   "source": []
  },
  {
   "cell_type": "markdown",
   "metadata": {},
   "source": [
    "# References"
   ]
  },
  {
   "cell_type": "markdown",
   "metadata": {},
   "source": [
    "* Yang J, et al. (2008) *An ant colony optimization method for generalized TSP problem* [online] Available at: <https://www.sciencedirect.com/science/article/pii/S1002007108002736>.  Accessed on [March 22. 2020]\n",
    "* Makura, Wiktor k., (n.d.) *Ant Colony Algorithm* [online] Available at: <https://mathworld.wolfram.com/AntColonyAlgorithm.html> [Accessed on Mar 22. 2020]\n",
    "* Panigrahi D., (2015) *Design and Analysis of Algorithms* [online] Available at: <www2.cs.duke.edu/courses/fall15/compsci532/scribe_notes/lec14.pdf> [Accessed on Mar 18. 2020]\n",
    "* Brownlee J., (2015) *Clever Algorithms: Nature-Inspired Programming Recipes* [online] Available at: <http://www.cleveralgorithms.com/nature-inspired/stochastic/tabu_search.html> [Accessed on Mar 18. 2020]"
   ]
  }
 ],
 "metadata": {
  "kernelspec": {
   "display_name": "Python 3",
   "language": "python",
   "name": "python3"
  },
  "language_info": {
   "codemirror_mode": {
    "name": "ipython",
    "version": 3
   },
   "file_extension": ".py",
   "mimetype": "text/x-python",
   "name": "python",
   "nbconvert_exporter": "python",
   "pygments_lexer": "ipython3",
   "version": "3.7.6"
  }
 },
 "nbformat": 4,
 "nbformat_minor": 4
}
