{
 "cells": [
  {
   "cell_type": "markdown",
   "metadata": {},
   "source": [
    "# 380CT Assignment - Vox Machina"
   ]
  },
  {
   "cell_type": "markdown",
   "metadata": {},
   "source": [
    "## featuring Nathan Brown, Harry Wills & Daniyal Khan"
   ]
  },
  {
   "cell_type": "markdown",
   "metadata": {},
   "source": [
    "# Theory"
   ]
  },
  {
   "cell_type": "markdown",
   "metadata": {},
   "source": [
    "The Travelling Salesman Problem(TSP) is a NP-Hard problem that, given that the graph is a complete with set V vertices, find the shortest Hamiltonian cycle in terms of distance. (Grefenstette, et al, 1985). \n",
    "\n",
    "This can be given by:\n",
    "$$d(\\pi)=\\sum_{i=1}^{|\\pi|-1} d(v_{i},v_{i+1})$$\n",
    "Where $\\pi = (v_{1},v_{2}, ...)$ (Panigrahi 2015)"
   ]
  },
  {
   "cell_type": "markdown",
   "metadata": {},
   "source": [
    "### Ant Colony Optimization - Definition"
   ]
  },
  {
   "cell_type": "markdown",
   "metadata": {},
   "source": [
    "The first meta-heuristic algorithm that will be implemented to the TSP is 'Ant Colony Optimization'(ACO).  This algorithm is designed on the behaviour of ants searching by food, which is done by randomly searching until finding optimal paths, leaving pheramones behind for their colony (Makura, Wiktor, n.d.).  Due to this, the most optimal path isn't deduced, but more-so stumbled upon by chance, and is therfore probability-based.  This can be mathematically shown as:\n",
    "$$\n",
    "p^{k}_{ij} =\n",
    "\\begin{cases}\n",
    "    \\frac{[\\tau_{ij}]^{\\alpha}\\cdot [\\eta_{ij}]^{\\beta}}\n",
    "    {\\sum_{s\\in allowed_k}[\\tau_{is}]^{\\alpha}\\cdot [\\eta_{is}]^\\beta}, & \\text j \\in allowed_k \\\\\n",
    "    0, & \\text{otherwise}\n",
    "\\end{cases}\n",
    "$$\n",
    "* Where $\\tau_{ij}$ is the intensity of the pheramona trail between cities i and j.\n",
    "* $\\alpha$ is the regulator for the influence of $\\tau_{ij}$.\n",
    "* $\\eta_{ij}$ is the visibility of city j fromcity i, which is always the distance between the two cities.\n",
    "* $\\beta$ is the regulator for the influence of $\\eta+{ij}$.\n",
    "* $allowed_k$ is the set of cities that have not yet been visited."
   ]
  },
  {
   "cell_type": "markdown",
   "metadata": {},
   "source": [
    "(Yang, et al. 2008)"
   ]
  },
  {
   "cell_type": "markdown",
   "metadata": {},
   "source": [
    "### Tabu Search - Definition"
   ]
  },
  {
   "cell_type": "markdown",
   "metadata": {},
   "source": [
    "The second meta-heuristic algorithm that will be implemented to the TSP is 'Tabu Search'.  This algorithm consists of using an iterative solution implementation a set of problem solutions and moving from one solution to another in the same neighbourhood of each related solution.  This means maintaining a short term memory of of specific changes of recent moves within the search space and preventing future moves from undoing those changes (Panigrahi, 2015).  "
   ]
  },
  {
   "cell_type": "markdown",
   "metadata": {},
   "source": [
    "### Tabu Search - Pseudocode"
   ]
  },
  {
   "cell_type": "markdown",
   "metadata": {},
   "source": [
    "***\n",
    "**Algorithm:** Tabu Search <br>\n",
    "**Input:** A complete weight graph $G=(V,E)$ where $V={1,...,n}$ for some $n\\geq1$ and a weight function $w(a,b)$ which gives the weight of edge $(a,b)$<br>\n",
    "**Output:** The shortest Hamiltonian cycle path, the time taken in terms of distance, and how accurate the estimate is to the minimal cycle length\n",
    "***\n",
    "1. $S_{best} \\leftarrow ConstructInitialSolution()$\n",
    "2. $TabuList \\leftarrow \\emptyset$\n",
    "3. $While(\\neg StopCondition())$\n",
    "4. $\\quad CandidateList \\leftarrow \\emptyset$\n",
    "5. $\\quad for(S_{candidate} \\in S_{bestneighbourhood}$\n",
    "6. $\\quad \\quad if(\\neg ContainsAnyEdges(S_{candidate}, TabuLate)$\n",
    "7. $\\quad \\quad \\quad CandidateList \\leftarrow S_{candidate}$ \n",
    "8. $\\quad \\quad end\\, if$\n",
    "9. $\\quad end\\, for$\n",
    "10. $\\quad S_{candidate} \\leftarrow LocateBestCandidate(CandidateList)$\n",
    "11. $\\quad if(Cost(S_{candidate)}\\leq Cost(S_{best}))$\n",
    "12. $\\quad \\quad S_{best} \\leftarrow S_{candidate}$\n",
    "13. $\\quad \\quad TabuList \\leftarrow FeatureDifferences(S_{candidate},S_{best})$\n",
    "14. $\\quad \\quad While(TabuList > TabuList_{size})$\n",
    "15. $\\quad \\quad \\quad DeleteFeature(TabuList)$\n",
    "16. $\\quad \\quad end\\, While$\n",
    "17. $\\quad end\\, if$\n",
    "18. $end\\, While$\n",
    "19. $Return\\, S_{best}$\n",
    "\n",
    "(Brownlee 2015)"
   ]
  },
  {
   "cell_type": "markdown",
   "metadata": {},
   "source": [
    "### Tabu Search - Big O Analysis"
   ]
  },
  {
   "cell_type": "markdown",
   "metadata": {},
   "source": [
    "Due to the nested looping occuring within the outer loop starting at line 3 to line 18, combined with lines 5-9, and 14-16, the time complexity in Big O notation would be:\n",
    "$$O(n*(n+n))  \\quad Simplified\\,to$$\n",
    "$$O(n^2)\\quad Quadratic$$"
   ]
  },
  {
   "cell_type": "markdown",
   "metadata": {},
   "source": [
    "Tabu search requires $N$ memory for the $TabuList$, $S_{bestneighbourhood}$, $S_{best}$ and $CandidateList$ variables, as well as fixed memory for iterable variables, resulting in the following space complexity:\n",
    "$$O(n+n+n+n)\\quad Simplified \\,to$$\n",
    "$$O(n) \\quad Linear$$"
   ]
  },
  {
   "cell_type": "markdown",
   "metadata": {},
   "source": [
    "# Practice"
   ]
  },
  {
   "cell_type": "code",
   "execution_count": 34,
   "metadata": {},
   "outputs": [],
   "source": [
    "from random import randrange"
   ]
  },
  {
   "cell_type": "code",
   "execution_count": null,
   "metadata": {},
   "outputs": [],
   "source": [
    "def find_neighbourhood(solution, neighbours):\n",
    "    neighbourhood_of_solution = []\n",
    "    \n",
    "    for n in solution[1:-1]:\n",
    "        index1 = solution.index(n)"
   ]
  },
  {
   "cell_type": "code",
   "execution_count": 48,
   "metadata": {},
   "outputs": [],
   "source": [
    "def search(first_solution, distance_first_solution, neighbours, iters,size):\n",
    "    count = 1\n",
    "    solution = first_solution\n",
    "    tabu_list = list()\n",
    "    best_cost = distance_first_solution\n",
    "    best_solution = solution\n",
    "    \n",
    "    "
   ]
  },
  {
   "cell_type": "markdown",
   "metadata": {},
   "source": [
    "# References"
   ]
  },
  {
   "cell_type": "markdown",
   "metadata": {},
   "source": [
    "* Yang J, et al. (2008) *An ant colony optimization method for generalized TSP problem* [online] Available at: <https://www.sciencedirect.com/science/article/pii/S1002007108002736>.  Accessed on [March 22. 2020]\n",
    "* Makura, Wiktor k., (n.d.) *Ant Colony Algorithm* [online] Available at: <https://mathworld.wolfram.com/AntColonyAlgorithm.html> [Accessed on Mar 22. 2020]\n",
    "* Panigrahi D., (2015) *Design and Analysis of Algorithms* [online] Available at: <www2.cs.duke.edu/courses/fall15/compsci532/scribe_notes/lec14.pdf> [Accessed on Mar 18. 2020]\n",
    "* Brownlee J., (2015) *Clever Algorithms: Nature-Inspired Programming Recipes* [online] Available at: <http://www.cleveralgorithms.com/nature-inspired/stochastic/tabu_search.html> [Accessed on Mar 18. 2020]"
   ]
  }
 ],
 "metadata": {
  "kernelspec": {
   "display_name": "Python 3",
   "language": "python",
   "name": "python3"
  },
  "language_info": {
   "codemirror_mode": {
    "name": "ipython",
    "version": 3
   },
   "file_extension": ".py",
   "mimetype": "text/x-python",
   "name": "python",
   "nbconvert_exporter": "python",
   "pygments_lexer": "ipython3",
   "version": "3.7.6"
  }
 },
 "nbformat": 4,
 "nbformat_minor": 4
}
